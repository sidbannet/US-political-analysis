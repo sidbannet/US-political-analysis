{
  "nbformat": 4,
  "nbformat_minor": 0,
  "metadata": {
    "colab": {
      "name": "COVID pandemic and US politics",
      "provenance": [],
      "private_outputs": true,
      "collapsed_sections": [],
      "toc_visible": true,
      "authorship_tag": "ABX9TyOCa1zKdSdKWQVumLxA89dg",
      "include_colab_link": true
    },
    "kernelspec": {
      "name": "python3",
      "display_name": "Python 3"
    }
  },
  "cells": [
    {
      "cell_type": "markdown",
      "metadata": {
        "id": "view-in-github",
        "colab_type": "text"
      },
      "source": [
        "<a href=\"https://colab.research.google.com/github/sidbannet/US-political-analysis/blob/master/COVID_pandemic_and_US_politics.ipynb\" target=\"_parent\"><img src=\"https://colab.research.google.com/assets/colab-badge.svg\" alt=\"Open In Colab\"/></a>"
      ]
    },
    {
      "cell_type": "markdown",
      "metadata": {
        "id": "kkjDTGV_Yp37",
        "colab_type": "text"
      },
      "source": [
        "# COVID pandemic and US politics\n",
        "\n",
        "\n",
        "---\n",
        "**Overview**\n",
        "\n",
        "In US we have seen a recent spike in Corona virus cases and virus related deaths as the country is opening up. Politics and policies on how to respond to the pandemic and open up the economy has been intense. In this notebook an analysis is carried out to see how COVID cases and politics may (or may not be) be related.\n",
        "* Background research: [Open-source COVID dashboard](https://towardsdatascience.com/covid-19-dashboard-1910df63f14e)\n",
        "\n",
        "**Data source**\n",
        "* COVID data source: [Corona Virus Resource Center, John Hopkins University](https://systems.jhu.edu/research/public-health/ncov/)\n",
        "* US election data: [MIT election lab](https://electionlab.mit.edu/)\n",
        "\n",
        "\n",
        "**Contact Me** \n",
        "* [Email](sidban@uwalumni.com)\n",
        "* [LinkedIn](https://www.linkedin.com/in/sidban)"
      ]
    },
    {
      "cell_type": "markdown",
      "metadata": {
        "id": "1u7Uw4WCbQup",
        "colab_type": "text"
      },
      "source": [
        "# Author Bio\n",
        "\n",
        "[LinkedIn profile](https://www.linkedin.com/in/sidban)\n",
        "\n",
        "[Resume](https://docs.google.com/document/d/1uVc9le7LM2WMmGM4ub9w2uI1FY7I63h7SBxNGyIItWc/edit?usp=sharing)\n",
        "\n",
        "[GitHub](https://github.com/sidbannet?tab=repositories)\n",
        "\n",
        "---\n",
        "I develop **high-performance computation models** to understand *turbulence flow*, *multi-phase flow* and *combustion flames*. I apply **data-science** to accelerate design innovations in *propulsion* device.\n",
        "\n",
        "I received **PhD** from **University of Wisconsin - Madison** in 2011 with major in **Mechanical and Chemical Engineering** and distributed minor in *Mathamatics*, *Statistics* and *Computer Science*.\n",
        "\n",
        "I received recognitions for my work in clean propulsion innovation from [United States Deparment Of Energy](https://www.energy.gov/eere/vehicles/vehicle-technologies-office) and [Dr. Stephen Chu](https://en.wikipedia.org/wiki/Steven_Chu)."
      ]
    },
    {
      "cell_type": "markdown",
      "metadata": {
        "id": "03b5vKvxcFZx",
        "colab_type": "text"
      },
      "source": [
        "*Lies, damned lies, and statistics*\n",
        "\n",
        "One need to be very careful with data and building up surrogate statistical meta-models. Like the famous quote one can always interpret data in the way he/she wants and get carried away with it. In this analysis, I will only look into the data and not draw any conclusion(s) to avoid confirmation bias."
      ]
    },
    {
      "cell_type": "code",
      "metadata": {
        "id": "DjCzJnnIr30c",
        "colab_type": "code",
        "colab": {}
      },
      "source": [
        "!pip install plotly-geo\n",
        "!pip install geopandas==0.3.0\n",
        "!pip install pyshp==1.2.10"
      ],
      "execution_count": null,
      "outputs": []
    },
    {
      "cell_type": "markdown",
      "metadata": {
        "id": "O-r6mZTwdSqa",
        "colab_type": "text"
      },
      "source": [
        "# Clone the Git repository\n",
        "\n",
        "---\n",
        "\n",
        "*   Clone code and data repository\n",
        "*   Setup environmental variables"
      ]
    },
    {
      "cell_type": "code",
      "metadata": {
        "id": "aVgFGOGNdR96",
        "colab_type": "code",
        "colab": {}
      },
      "source": [
        "# Clone repository\n",
        "!git clone https://github.com/sidbannet/US-political-analysis.git\n",
        "%cd ./US-political-analysis\n",
        "!git submodule init\n",
        "!git submodule update --remote"
      ],
      "execution_count": null,
      "outputs": []
    },
    {
      "cell_type": "code",
      "metadata": {
        "id": "a2zCbdzBxzZd",
        "colab_type": "code",
        "colab": {}
      },
      "source": [
        "from google.colab import drive\n",
        "drive.mount('/content/drive')"
      ],
      "execution_count": null,
      "outputs": []
    },
    {
      "cell_type": "markdown",
      "metadata": {
        "id": "csPDnjywdwFM",
        "colab_type": "text"
      },
      "source": [
        "# Initialize the analysis package\n",
        "---\n",
        "*   Load modules\n",
        "*   Setup analysis environment"
      ]
    },
    {
      "cell_type": "code",
      "metadata": {
        "id": "lKJ19Jy1dvem",
        "colab_type": "code",
        "colab": {}
      },
      "source": [
        "## Import common packages and modules\n",
        "import os\n",
        "import subprocess\n",
        "import sys\n",
        "import pandas as pd\n",
        "import numpy as np\n",
        "import matplotlib.pyplot as plt\n",
        "import plotly.figure_factory as ff\n",
        "\n",
        "## Setup path correctly\n",
        "repo_dir = subprocess.check_output(\n",
        "    'git rev-parse --show-toplevel', shell=True,\n",
        ").decode('utf-8').strip()\n",
        "sys.path.insert(0, repo_dir + os.sep + 'stat-tools')\n",
        "\n",
        "## Import repo specific modules\n",
        "from sbstat.tool.analysis import ProbabilityDensity as Pd"
      ],
      "execution_count": null,
      "outputs": []
    },
    {
      "cell_type": "markdown",
      "metadata": {
        "id": "oItsAppPejdT",
        "colab_type": "text"
      },
      "source": [
        "# Load data\n",
        "\n",
        "\n",
        "---\n",
        "\n",
        "* US COVID cases\n",
        "* US COVID deaths\n",
        "* US presidential election data\n"
      ]
    },
    {
      "cell_type": "code",
      "metadata": {
        "id": "NaVsLUKyex_W",
        "colab_type": "code",
        "colab": {}
      },
      "source": [
        "## Initialize pandas\n",
        "df_covid_dead = pd.DataFrame()\n",
        "df_election_pres = pd.DataFrame()\n",
        "## Define folder\n",
        "us_data_folder = r'COVID-19' \\\n",
        "                 + os.sep + 'csse_covid_19_data' \\\n",
        "                 + os.sep + 'csse_covid_19_time_series' \\\n",
        "                 + os.sep\n",
        "us_election_folder = r'US-election-data' + os.sep\n",
        "## Read COVID data\n",
        "df_covid_dead = pd.read_csv(\n",
        "    us_data_folder + 'time_series_covid19_deaths_US.csv',\n",
        ")\n",
        "df_covid_conf = pd.read_csv(\n",
        "    us_data_folder + 'time_series_covid19_confirmed_US.csv'\n",
        ")\n",
        "## Read election data\n",
        "df_election_pres = pd.read_csv(\n",
        "    us_election_folder + 'countypres_2000-2016.csv',\n",
        ")"
      ],
      "execution_count": null,
      "outputs": []
    },
    {
      "cell_type": "markdown",
      "metadata": {
        "id": "vP-ubP7BfCFD",
        "colab_type": "text"
      },
      "source": [
        "**Filtering of data**\n",
        "\n",
        "\n",
        "---\n",
        "\n"
      ]
    },
    {
      "cell_type": "code",
      "metadata": {
        "id": "RSDFSAKtfHS2",
        "colab_type": "code",
        "colab": {}
      },
      "source": [
        "## US COVID data analysis\n",
        "df_covid = (\n",
        "    df_covid_dead[df_covid_dead.FIPS > 1000]\n",
        ")[df_covid_dead.FIPS < 80000].copy()  # This FIPS lies in US voting counties\n",
        "df_conf = (\n",
        "    df_covid_conf[df_covid_conf.FIPS > 1000]\n",
        ")[df_covid_conf.FIPS < 80000].copy()\n",
        "##\n",
        "days = []\n",
        "days_conf = []\n",
        "for index, row in df_covid.iterrows():\n",
        "    days.append(\n",
        "        np.where(\n",
        "            row.values[12:] > 0\n",
        "        )[0].size\n",
        "    )\n",
        "for index, row in df_conf.iterrows():\n",
        "    days_conf.append(\n",
        "        np.where(\n",
        "            row.values[11:] > 5\n",
        "        )[0].size\n",
        "    )"
      ],
      "execution_count": null,
      "outputs": []
    },
    {
      "cell_type": "markdown",
      "metadata": {
        "id": "T-C7GNk6s4DT",
        "colab_type": "text"
      },
      "source": [
        "# Analysis\n",
        "\n",
        "\n",
        "---\n",
        "\n"
      ]
    },
    {
      "cell_type": "code",
      "metadata": {
        "id": "4qXd3lk6tPxQ",
        "colab_type": "code",
        "colab": {}
      },
      "source": [
        "affected = np.zeros_like(df_covid.values[0][12:])\n",
        "population = np.zeros_like(df_covid.values[0][12:])\n",
        "confirmed = np.zeros_like(df_conf.values[0][11:])\n",
        "confirmed_population = np.zeros_like(df_conf.values[0][11:])"
      ],
      "execution_count": null,
      "outputs": []
    },
    {
      "cell_type": "markdown",
      "metadata": {
        "id": "togsVerztVwP",
        "colab_type": "text"
      },
      "source": [
        "**COVID trajectory plots**"
      ]
    },
    {
      "cell_type": "code",
      "metadata": {
        "id": "oRXZtCkWtaqf",
        "colab_type": "code",
        "colab": {}
      },
      "source": [
        "##\n",
        "fig = plt.figure('COVID trajectory plots')\n",
        "ax = fig.subplots(nrows=2, ncols=1)\n",
        "for idx, row in df_covid.iterrows():\n",
        "    try:\n",
        "        if days[idx] == 0:\n",
        "            continue\n",
        "        else:\n",
        "            x = np.array(\n",
        "                np.linspace(start=0, stop=days[idx] - 1, num=days[idx]))\n",
        "    except IndexError:\n",
        "        continue\n",
        "    try:\n",
        "        ax[0].plot(x, row.values[-days[idx]:] / row.Population * 1e6,\n",
        "                '-k', label=row.FIPS)\n",
        "        affected[:days[idx]] += row.values[-days[idx]:]\n",
        "        population[:days[idx]] += row.Population\n",
        "    except ValueError:\n",
        "        pass\n",
        "    except IndexError:\n",
        "        pass\n",
        "ax[0].plot(affected[:max(days) - 1] / population[:max(days) - 1] * 1e6, '-g',\n",
        "        label='Mean')\n",
        "_ = ax[0].set_title('Deaths')\n",
        "\n",
        "for idx, row in df_conf.iterrows():\n",
        "    try:\n",
        "        if days_conf[idx] == 0:\n",
        "            continue\n",
        "        else:\n",
        "            x = np.array(\n",
        "                np.linspace(start=0, stop=days_conf[idx] - 1, num=days_conf[idx]))\n",
        "    except IndexError:\n",
        "        continue\n",
        "    try:\n",
        "        ax[1].plot(\n",
        "            x,\n",
        "            row.values[-days_conf[idx]:]\n",
        "            / df_covid.Population.loc[idx] * 1e6,\n",
        "            '-k',\n",
        "            label=row.FIPS)\n",
        "        confirmed[:days_conf[idx]] += row.values[-days_conf[idx]:]\n",
        "        confirmed_population[:days_conf[idx]] += \\\n",
        "            df_covid.Population.loc[idx]\n",
        "    except ValueError:\n",
        "        pass\n",
        "    except IndexError:\n",
        "        pass\n",
        "ax[1].plot(\n",
        "    confirmed[\n",
        "        :max(days_conf)\n",
        "        ] / confirmed_population[\n",
        "        :max(days_conf)\n",
        "        ] * 1e6,\n",
        "    '-g',\n",
        "    label='Mean'\n",
        ")\n",
        "_ = ax[1].set_title('Confirmed')\n",
        "_ = [axes.grid(True) for axes in ax.flat]\n",
        "_ = [axes.set_yscale('log') for axes in ax.flat]\n",
        "_ = [axes.set_ylim(1, 1e8) for axes in ax.flat]\n",
        "_ = ax[-1].set_xlabel('Number of days [#]')\n",
        "_ = fig.suptitle('COVID trajectory')"
      ],
      "execution_count": null,
      "outputs": []
    },
    {
      "cell_type": "markdown",
      "metadata": {
        "id": "4zh7p3P6zsqn",
        "colab_type": "text"
      },
      "source": [
        "**COVID and US politics metric**\n",
        "\n",
        "Definitions\n"
      ]
    },
    {
      "cell_type": "code",
      "metadata": {
        "id": "N4aQfoPpz1L4",
        "colab_type": "code",
        "colab": {}
      },
      "source": [
        "covid_mat = []\n",
        "covid_rel = []\n",
        "covid_meas = []\n",
        "conf_meas = []\n",
        "electionbias = []\n",
        "mor_rate = []\n",
        "growth_rate = []\n",
        "FIPS = []\n",
        "lat = []\n",
        "lon = []\n",
        "for idx, row in df_covid.iterrows():\n",
        "    if df_conf.loc[idx].values[-1] == 0:\n",
        "        mor_rate.append(0)\n",
        "        growth_rate.append(0)\n",
        "    else:\n",
        "        mor_rate.append(row.values[-1] / df_conf.loc[idx].values[-1])\n",
        "        if df_conf.loc[idx].values[-11] == 0:\n",
        "            growth_rate.append(-1)\n",
        "        else:\n",
        "            growth_rate.append(\n",
        "                df_conf.loc[idx].values[-1] /\n",
        "                df_conf.loc[idx].values[-11]\n",
        "            )\n",
        "    FIPS.append(row.FIPS)\n",
        "    lat.append(row.Lat)\n",
        "    lon.append(row.Long_)\n",
        "    try:\n",
        "        var = (\n",
        "            (\n",
        "                df_election_pres[\n",
        "                    df_election_pres.FIPS == row.FIPS\n",
        "                ][\n",
        "                    df_election_pres.year == 2016\n",
        "                ][\n",
        "                    df_election_pres.party == 'republican'\n",
        "                ].candidatevotes.values[0] -\n",
        "                df_election_pres[\n",
        "                    df_election_pres.FIPS == row.FIPS\n",
        "                ][\n",
        "                    df_election_pres.year == 2016\n",
        "                ][\n",
        "                    df_election_pres.party == 'democrat'\n",
        "                ].candidatevotes.values[0]\n",
        "            ) / (\n",
        "                df_election_pres[\n",
        "                    df_election_pres.FIPS == row.FIPS\n",
        "                ][\n",
        "                    df_election_pres.year == 2016\n",
        "                ][\n",
        "                    df_election_pres.party == 'republican'\n",
        "                ].totalvotes.values[0]\n",
        "            )\n",
        "        )* 100\n",
        "        \n",
        "    except IndexError:\n",
        "        var = 101\n",
        "    electionbias.append(\n",
        "        var\n",
        "    )\n",
        "    if row.values[-1] == 0:\n",
        "        covid_mat.append(0)\n",
        "        covid_rel.append(0)\n",
        "        covid_meas.append(0)\n",
        "        conf_meas.append(0)\n",
        "        continue\n",
        "    elif days[idx] == 0:\n",
        "        covid_mat.append(0)\n",
        "        covid_rel.append(0)\n",
        "        covid_meas.append(0)\n",
        "        conf_meas.append(0)\n",
        "        continue\n",
        "    else:\n",
        "        pass\n",
        "    covid_mat.append(\n",
        "        (row.values[-1] * 1e6) / (row.Population * days[idx])\n",
        "    )\n",
        "    covid_rel.append(\n",
        "        ((row.values[-1] * 1e6) / row.Population) /\n",
        "        ((affected[days[idx] - 1] * 1e6) / population[days[idx] - 1])\n",
        "    )\n",
        "    if days[idx] <= 80:\n",
        "        covid_meas.append(\n",
        "            ((row.values[-1] * 1e6) / row.Population) /\n",
        "            ((affected[days[idx]] * 1e6) / population[days[idx]])\n",
        "        )\n",
        "    elif days[idx] < 10:\n",
        "        covid_mat.append(0)\n",
        "        covid_rel.append(0)\n",
        "        covid_meas.append(0)\n",
        "        electionbias.append(101)\n",
        "        conf_meas.append(0)\n",
        "    else:\n",
        "        covid_meas.append(\n",
        "            ((row.values[80 - 1] * 1e6) / row.Population) /\n",
        "            ((affected[80 - 1] * 1e6) / population[80 - 1])\n",
        "        )\n",
        "    if days_conf[idx] <= 80:\n",
        "        conf_meas.append(\n",
        "            ((df_conf.loc[idx].values[-1] * 1e6) / df_covid.Population.loc[idx])\n",
        "            / ((confirmed[days_conf[idx]] * 1e6)\n",
        "               / confirmed_population[days_conf[idx]])\n",
        "        )\n",
        "    else:\n",
        "        conf_meas.append(\n",
        "            ((df_conf.loc[idx].values[80 - 1] * 1e6)\n",
        "             / df_covid.Population.loc[idx]) /\n",
        "            ((confirmed[80 - 1] * 1e6) / confirmed_population[80 - 1])\n",
        "        )"
      ],
      "execution_count": null,
      "outputs": []
    },
    {
      "cell_type": "code",
      "metadata": {
        "id": "_YMmquIm1jc_",
        "colab_type": "code",
        "colab": {}
      },
      "source": [
        "##\n",
        "df_analysis = pd.DataFrame(index=FIPS)\n",
        "df_analysis.index.name = 'FIPS'\n",
        "df_analysis['Death'] = covid_meas\n",
        "df_analysis['Conf'] = conf_meas\n",
        "df_analysis['Mortality'] = mor_rate\n",
        "df_analysis['Growth'] = growth_rate\n",
        "df_analysis['Election'] = electionbias\n",
        "df_analysis['Population'] = df_covid.Population.values\n",
        "df_analysis['Days'] = days_conf\n",
        "df_analysis['Long'] = lon\n",
        "df_analysis['Lat'] = lat\n",
        "df_analysis['County'] = df_covid.Combined_Key.values\n",
        "df_analysis['State'] = df_covid.Province_State.values\n",
        "df_analysis['UID'] = df_covid.UID.values"
      ],
      "execution_count": null,
      "outputs": []
    },
    {
      "cell_type": "code",
      "metadata": {
        "id": "6assBx1u0Caj",
        "colab_type": "code",
        "colab": {}
      },
      "source": [
        "(df_analysis[df_analysis.Population > 10000]).sort_values(\n",
        "    by=['Death', 'Mortality', 'Conf', 'Growth'],\n",
        "    axis=0, ascending=False, ignore_index=False).head(50)"
      ],
      "execution_count": null,
      "outputs": []
    },
    {
      "cell_type": "code",
      "metadata": {
        "id": "-P9ryShS5WKP",
        "colab_type": "code",
        "colab": {}
      },
      "source": [
        "fig = plt.figure('US politics and COVID')\n",
        "ax = fig.subplots(ncols=4, sharex=True, sharey=False)\n",
        "ax[0].scatter(\n",
        "    df_analysis.Election, df_analysis.Death,\n",
        "    s=df_analysis.Population.values / 10000, c=df_analysis.Days)\n",
        "ax[0].set_xlim(-100, 100)\n",
        "ax[1].scatter(\n",
        "    df_analysis.Election, df_analysis.Conf,\n",
        "    s=df_analysis.Population.values / 10000,\n",
        "    c=days_conf)\n",
        "ax[2].scatter(\n",
        "    df_analysis.Election, df_analysis.Growth,\n",
        "    s=df_analysis.Population.values / 10000,\n",
        "    c=days_conf)\n",
        "ax[3].scatter(\n",
        "    df_analysis.Election, df_analysis.Mortality,\n",
        "    s=df_analysis.Population.values / 10000,\n",
        "    c=days_conf)\n",
        "_ = [axes.grid(True) for axes in ax.flat]\n",
        "ax[0].set_yscale('log')\n",
        "ax[1].set_yscale('log')\n",
        "ax[2].set_yscale('linear')\n",
        "ax[3].set_yscale('linear')\n",
        "_ = [axes.set_xlabel('Political bias') for axes in ax.flat]\n",
        "ax[0].set_ylabel('COVID metric')\n",
        "ax[0].set_title('COVID Deaths vs. Politics')\n",
        "ax[1].set_title('COVID Cases vs. Politics')\n",
        "ax[2].set_title('COVID Growth vs. Politics')\n",
        "ax[3].set_title('COVID Mortality vs. Politics')\n",
        "_ = fig.suptitle('US county COVID and Political preference')\n",
        "_ = [axes.set_ylim(0.001, 100) for axes in ax.flat]\n",
        "ax[2].set_ylim(0.5, 5)\n",
        "ax[3].set_ylim(0.0, 0.2)\n",
        "fig.set_size_inches(w=18, h=6)\n",
        "fig.tight_layout(pad=3)"
      ],
      "execution_count": null,
      "outputs": []
    },
    {
      "cell_type": "code",
      "metadata": {
        "colab_type": "code",
        "id": "m7dzvjqhWaai",
        "colab": {}
      },
      "source": [
        "Select_State = 'Michigan'\n",
        "fig = plt.figure('US politics and COVID')\n",
        "ax = fig.subplots(ncols=4, sharex=True, sharey=True)\n",
        "ax[0].scatter(\n",
        "    df_analysis.Election[df_analysis.State == Select_State],\n",
        "    df_analysis.Death[df_analysis.State == Select_State],\n",
        "    s=df_analysis[df_analysis.State == Select_State].Population.values / 10000,\n",
        "    c=df_analysis.Days[df_analysis.State == Select_State])\n",
        "ax[0].set_xlim(-100, 100)\n",
        "ax[0].set_ylim(0.001, 100)\n",
        "ax[1].scatter(\n",
        "    df_analysis.Election[df_analysis.State == Select_State],\n",
        "    df_analysis.Conf[df_analysis.State == Select_State],\n",
        "    s=df_analysis[df_analysis.State == Select_State].Population.values / 10000,\n",
        "    c=df_analysis[df_analysis.State == Select_State].Days)\n",
        "ax[2].scatter(\n",
        "    df_analysis.Election[df_analysis.State == Select_State],\n",
        "    df_analysis.Growth[df_analysis.State == Select_State],\n",
        "    s=df_analysis[df_analysis.State == Select_State].Population.values / 10000,\n",
        "    c=df_analysis[df_analysis.State == Select_State].Days)\n",
        "ax[3].scatter(\n",
        "    df_analysis.Election[df_analysis.State == Select_State],\n",
        "    df_analysis.Mortality[df_analysis.State == Select_State],\n",
        "    s=df_analysis[df_analysis.State == Select_State].Population.values / 10000,\n",
        "    c=df_analysis[df_analysis.State == Select_State].Days)\n",
        "_ = [axes.grid(True) for axes in ax.flat]\n",
        "_ = [axes.set_yscale('log') for axes in ax.flat]\n",
        "_ = [axes.set_xlabel('Political bias') for axes in ax.flat]\n",
        "ax[0].set_ylabel('COVID metric')\n",
        "ax[0].set_title('COVID Deaths vs. Politics')\n",
        "ax[1].set_title('COVID Cases vs. Politics')\n",
        "ax[2].set_title('COVID Growth vs. Politics')\n",
        "ax[3].set_title('COVID Mortality vs. Politics')\n",
        "_ = fig.suptitle('US county COVID and Political preference for ' + Select_State)\n",
        "fig.set_size_inches(w=18, h=6)\n",
        "fig.tight_layout(pad=4)"
      ],
      "execution_count": null,
      "outputs": []
    },
    {
      "cell_type": "code",
      "metadata": {
        "id": "iGqWXvqMoDJ3",
        "colab_type": "code",
        "colab": {}
      },
      "source": [
        "colorscale = [\"#f7fbff\",\"#ebf3fb\",\"#deebf7\",\"#d2e3f3\",\"#c6dbef\",\"#b3d2e9\",\"#9ecae1\",\n",
        "              \"#85bcdb\",\"#6baed6\",\"#57a0ce\",\"#4292c6\",\"#3082be\",\"#2171b5\",\"#1361a9\",\n",
        "              \"#08519c\",\"#0b4083\",\"#08306b\"]\n",
        "colorscale = [\n",
        "    'rgb(0, 0, 255)',\n",
        "    'rgb(0, 127, 255)',\n",
        "    'rgb(0, 255, 255)',\n",
        "    'rgb(0, 255, 127)',\n",
        "    'rgb(0, 255, 0)',\n",
        "    'rgb(127, 255, 0)',\n",
        "    'rgb(255, 255, 0)',\n",
        "    'rgb(255, 127, 0)',\n",
        "    'rgb(255, 0, 0)',\n",
        "]\n",
        "endpts = list(np.linspace(-80, 80, len(colorscale) - 1))\n",
        "fips = df_analysis.index.values\n",
        "values = df_analysis.Election.values\n",
        "fig = ff.create_choropleth(\n",
        "    fips=fips, values=values,\n",
        "    binning_endpoints=endpts,\n",
        "    colorscale=colorscale,\n",
        "    show_state_data=False,\n",
        "    show_hover=True, centroid_marker={'opacity': 0},\n",
        "    asp=2.9, title='Trump 2016 [%]',\n",
        "    legend_title='% for Trump'\n",
        ")\n",
        "\n",
        "fig.layout.template = None\n",
        "fig.show()"
      ],
      "execution_count": null,
      "outputs": []
    },
    {
      "cell_type": "code",
      "metadata": {
        "id": "9hz7nPr0ucjy",
        "colab_type": "code",
        "colab": {}
      },
      "source": [
        "colorscale = [\"#f7fbff\",\"#ebf3fb\",\"#deebf7\",\"#d2e3f3\",\"#c6dbef\",\"#b3d2e9\",\"#9ecae1\",\n",
        "              \"#85bcdb\",\"#6baed6\",\"#57a0ce\",\"#4292c6\",\"#3082be\",\"#2171b5\",\"#1361a9\",\n",
        "              \"#08519c\",\"#0b4083\",\"#08306b\"]\n",
        "endpts = list(np.linspace(-2, 3, len(colorscale) - 1))\n",
        "fips = df_analysis.index.values\n",
        "values = []\n",
        "[values.append(np.log10(v)) for v in df_analysis.Death.values]\n",
        "fig = ff.create_choropleth(\n",
        "    fips=fips, values=values,\n",
        "    binning_endpoints=endpts,\n",
        "    colorscale=colorscale,\n",
        "    show_state_data=False,\n",
        "    show_hover=True, centroid_marker={'opacity': 0},\n",
        "    asp=2.9, title='Death',\n",
        "    legend_title='COVID Deaths'\n",
        ")\n",
        "\n",
        "fig.layout.template = None\n",
        "fig.show()"
      ],
      "execution_count": null,
      "outputs": []
    },
    {
      "cell_type": "code",
      "metadata": {
        "id": "RNc1LZbivnft",
        "colab_type": "code",
        "colab": {}
      },
      "source": [
        "colorscale = [\n",
        "    'rgb(0, 0, 255)',\n",
        "    'rgb(0, 127, 255)',\n",
        "    'rgb(0, 255, 255)',\n",
        "    'rgb(0, 255, 127)',\n",
        "    'rgb(0, 255, 0)',\n",
        "    'rgb(127, 255, 0)',\n",
        "    'rgb(255, 255, 0)',\n",
        "    'rgb(255, 127, 0)',\n",
        "    'rgb(255.0, 0.0, 0.0)',\n",
        "]\n",
        "endpts = list(np.linspace(-3, 4, len(colorscale) - 1))\n",
        "fips = df_analysis.index.values\n",
        "values = []\n",
        "[values.append(np.log10(v)) for v in df_analysis.Conf.values]\n",
        "fig = ff.create_choropleth(\n",
        "    fips=fips, values=values,\n",
        "    binning_endpoints=endpts,\n",
        "    colorscale=colorscale,\n",
        "    show_state_data=False,\n",
        "    show_hover=True, centroid_marker={'opacity': 0},\n",
        "    asp=2.9, title='Confirmed COVID',\n",
        "    legend_title='COVID Conf'\n",
        ")\n",
        "\n",
        "fig.layout.template = None\n",
        "fig.show()"
      ],
      "execution_count": null,
      "outputs": []
    },
    {
      "cell_type": "code",
      "metadata": {
        "id": "GV3-CKnLKOts",
        "colab_type": "code",
        "colab": {}
      },
      "source": [
        "colorscale = [\n",
        "    'rgb(0, 0, 255)',\n",
        "    'rgb(0, 127, 255)',\n",
        "    'rgb(0, 255, 255)',\n",
        "    'rgb(0, 255, 127)',\n",
        "    'rgb(0, 255, 0)',\n",
        "    'rgb(127, 255, 0)',\n",
        "    'rgb(255, 255, 0)',\n",
        "    'rgb(255, 127, 0)',\n",
        "    'rgb(255, 0, 0)',\n",
        "]\n",
        "endpts = list(np.linspace(0.001, 0.1, len(colorscale) - 1))\n",
        "fips = df_analysis.index.values\n",
        "values = df_analysis.Mortality.values\n",
        "fig = ff.create_choropleth(\n",
        "    fips=fips, values=values,\n",
        "    binning_endpoints=endpts,\n",
        "    colorscale=colorscale,\n",
        "    show_state_data=False,\n",
        "    show_hover=True, centroid_marker={'opacity': 0},\n",
        "    asp=2.9, title='Mortality [-]',\n",
        "    legend_title='[-] Mortality'\n",
        ")\n",
        "\n",
        "fig.layout.template = None\n",
        "fig.show()"
      ],
      "execution_count": null,
      "outputs": []
    },
    {
      "cell_type": "markdown",
      "metadata": {
        "id": "LrBdShK8fd6V",
        "colab_type": "text"
      },
      "source": [
        "# Fitting the data to see correlation"
      ]
    },
    {
      "cell_type": "code",
      "metadata": {
        "id": "cpS06fx-fhYs",
        "colab_type": "code",
        "colab": {}
      },
      "source": [
        "x = df_analysis.Election.values\n",
        "yd_lin = df_analysis.Death.values\n",
        "yc_lin = df_analysis.Conf.values\n",
        "yd_log = []\n",
        "yc_log = []\n",
        "\n",
        "[yc_log.append(np.log10(yy)) for yy in yc_lin]\n",
        "[yd_log.append(np.log10(yy)) for yy in yd_lin]\n",
        "\n",
        "coef = np.polyfit(np.array(x), np.array(yd_log), 1)\n",
        "poly1d_fn = np.poly1d(coef) \n",
        "\n",
        "plt.plot(x, yd_log, 'yo')\n",
        "plt.plot(x, poly1d_fn(x), '-k')"
      ],
      "execution_count": null,
      "outputs": []
    },
    {
      "cell_type": "code",
      "metadata": {
        "id": "14B9K4dS2D1P",
        "colab_type": "code",
        "colab": {}
      },
      "source": [
        "df_analysis[df_analysis.State == 'Montana']"
      ],
      "execution_count": null,
      "outputs": []
    }
  ]
}